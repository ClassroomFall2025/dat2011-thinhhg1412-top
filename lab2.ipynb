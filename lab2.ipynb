{
 "cells": [
  {
   "cell_type": "markdown",
   "id": "fdeff819",
   "metadata": {},
   "source": [
    "# Sinh Viên thực hiện Lab 2 ở Đây"
   ]
  },
  {
   "cell_type": "markdown",
   "id": "acc5d7dc",
   "metadata": {},
   "source": [
    "## Lab 2 - Bài 1"
   ]
  },
  {
   "cell_type": "code",
   "execution_count": 3,
   "id": "001e0507",
   "metadata": {},
   "outputs": [
    {
     "name": "stdout",
     "output_type": "stream",
     "text": [
      "Con người có trong chuỗi\n",
      "Trích\"con người \"\n",
      "CON NGƯỜI \n"
     ]
    }
   ],
   "source": [
    "# Code lab 2 bài 1 ở đây\n",
    "tho = '''\n",
    "Kiếp con người mỏng manh như là gió\n",
    "Sống trên đời có được mấy lần vui\n",
    "Sao phải đau mà không thể mỉm cười\n",
    "Gắng buông nỗi ngậm ngùi nơi quá khứ\n",
    "\n",
    "Nếu có thể sao ta không làm thử\n",
    "Để tâm hồn khắc hai chữ bình an\n",
    "Cho đôi chân bước thanh thản nhẹ nhàng\n",
    "Dù hướng đời có muôn ngàn đá sỏi\n",
    "'''\n",
    "# Kiểm tra từ \"con người\" có trong chuỗi hay không ? Xuất kết quả kiểm tra ra màn hình\n",
    "\n",
    "if \"Con người\":\n",
    "    print('Con người có trong chuỗi')\n",
    "else:\n",
    "    print('Từ con người không có trong báo cáo')\n",
    "\n",
    "# Sử dụng cú pháp trích ra 1 phần của chuỗi để lấy từ \"Con người\" trong câu đầu tiên\n",
    "\n",
    "dong = tho.split('\\n')[1]\n",
    "ten = dong[5:15]\n",
    "print(f'Trích\"{ten}\"')\n",
    "\n",
    "# Chuyển từ \"Con người\" thành chữ hoa và xuất ra màn hình\n",
    "\n",
    "hoa = (ten.upper())\n",
    "print(hoa)"
   ]
  },
  {
   "cell_type": "markdown",
   "id": "c0835310",
   "metadata": {},
   "source": [
    "## Lab 2 - Bài 2"
   ]
  },
  {
   "cell_type": "code",
   "execution_count": 2,
   "id": "fa9cb39f",
   "metadata": {},
   "outputs": [
    {
     "name": "stdout",
     "output_type": "stream",
     "text": [
      "\"...\n",
      "Kiếp con người mỏng manh như là gió\n",
      "Sống trên đời có được mấy lần vui\n",
      "Sao phải đau mà không thể mỉm cười\n",
      "Gắng buông nơi ngậm ngùi nơi quá khứ\n",
      "\n",
      "Nếu có thể sao ta không làm thử\n",
      "Để tâm hồn khắc hai chữ hạnh phúc\n",
      "Cho đôi chân bước thanh thản nhẹ nhàng\n",
      "Dù hướng đời có muôn ngàn đá sỏi\n",
      "...\"\n"
     ]
    }
   ],
   "source": [
    "# Code lab 2  bài 2 ở đây\n",
    "tho = '''\n",
    "Kiếp con người mỏng manh như là gió\n",
    "Sống trên đời có được mấy lần vui\n",
    "Sao phải đau mà không thể mỉm cười\n",
    "Gắng buông nơi ngậm ngùi nơi quá khứ\n",
    "\n",
    "Nếu có thể sao ta không làm thử\n",
    "Để tâm hồn khắc hai chữ bình an\n",
    "Cho đôi chân bước thanh thản nhẹ nhàng\n",
    "Dù hướng đời có muôn ngàn đá sỏi\n",
    "'''\n",
    "# Thay thế từ \"bình an\" bằng từ \"hạnh phúc\".\n",
    "\n",
    "newtho = tho.replace('bình an', 'hạnh phúc')\n",
    "\n",
    "# Ghép thêm cụm ký tự\"...vào đầu bài thơ và...\"vào cuối bài thơ\n",
    "\n",
    "modified_text = '\"...' + newtho + '...\"'\n",
    "# Xuất bài thơ đã được thay thế từ ra màn hình.\n",
    "print(modified_text)"
   ]
  },
  {
   "cell_type": "markdown",
   "id": "0f2483fe",
   "metadata": {},
   "source": [
    "## Lab 2 - Bài 3"
   ]
  },
  {
   "cell_type": "code",
   "execution_count": 9,
   "id": "7034990b",
   "metadata": {},
   "outputs": [
    {
     "name": "stdout",
     "output_type": "stream",
     "text": [
      "Phương trình vô nghiệm\n"
     ]
    }
   ],
   "source": [
    "# Code lab 2  bài 3 ở đây\n",
    "a = float(input(\"Nhập hệ số a:\"))\n",
    "b = float(input(\"Nhập hệ số b:\"))\n",
    "if a == 0:\n",
    "    if b == 0:\n",
    "        print(\"Phương trình vô số nghiệm\")\n",
    "    else:\n",
    "        print(\"Phương trình vô nghiệm\")\n",
    "else:\n",
    "    x = -b/a\n",
    "    print(f\"Nghiệm của phương trình là {x}\")"
   ]
  },
  {
   "cell_type": "markdown",
   "id": "d36ea3d3",
   "metadata": {},
   "source": [
    "## Lab 2 - Bài 4"
   ]
  },
  {
   "cell_type": "code",
   "execution_count": 6,
   "id": "4c707ec1",
   "metadata": {},
   "outputs": [
    {
     "name": "stdout",
     "output_type": "stream",
     "text": [
      "Phương trình có 2 nghiệm phân biệt:\n",
      "x1 = 2.0\n",
      "x2 = 1.0\n"
     ]
    }
   ],
   "source": [
    "# code lab 2 bài 4 ở đây\n",
    "import math\n",
    "\n",
    "# Nhập a, b, c từ bàn phím\n",
    "a = float(input(\"Nhập a: \"))\n",
    "b = float(input(\"Nhập b: \"))\n",
    "c = float(input(\"Nhập c: \"))\n",
    "\n",
    "if a == 0:\n",
    "    # Trường hợp phương trình bậc nhất: bx + c = 0\n",
    "    if b == 0:\n",
    "        if c == 0:\n",
    "            print(\"Phương trình có vô số nghiệm\")\n",
    "        else:\n",
    "            print(\"Phương trình vô nghiệm\")\n",
    "    else:\n",
    "        x = -c / b\n",
    "        print(\"Phương trình có nghiệm duy nhất: x =\", x)\n",
    "else:\n",
    "    # Phương trình bậc hai\n",
    "    delta = b**2 - 4*a*c\n",
    "    if delta < 0:\n",
    "        print(\"Phương trình vô nghiệm\")\n",
    "    elif delta == 0:\n",
    "        x = -b / (2*a)\n",
    "        print(\"Phương trình có nghiệm kép: x =\", x)\n",
    "    else:\n",
    "        x1 = (-b + math.sqrt(delta)) / (2*a)\n",
    "        x2 = (-b - math.sqrt(delta)) / (2*a)\n",
    "        print(\"Phương trình có 2 nghiệm phân biệt:\")\n",
    "        print(\"x1 =\", x1)\n",
    "        print(\"x2 =\", x2)\n"
   ]
  },
  {
   "cell_type": "markdown",
   "id": "e2b41d4a",
   "metadata": {},
   "source": [
    "## Lab 2 - Bài 5: bài tập làm thêm"
   ]
  },
  {
   "cell_type": "code",
   "execution_count": 8,
   "id": "0e0172f7",
   "metadata": {},
   "outputs": [
    {
     "name": "stdout",
     "output_type": "stream",
     "text": [
      "Tổng của hai 10.0+4.0= 14.0\n"
     ]
    }
   ],
   "source": [
    "# code lab 2  bài làm thêm ở đây \n",
    "so1= float(input(\"Nhập số thứ nhất:\"))\n",
    "so2= float(input(\"Nhập số thứ hai:\"))\n",
    "toantu = input(\"Nhập phép toán cần tính:+,-,*,/\")\n",
    "if toantu == \"+\":\n",
    "    ket_qua = so1 + so2\n",
    "    print(f\"Tổng của hai {so1}+{so2}= {ket_qua}\")\n",
    "if toantu == \"-\":\n",
    "    ket_qua = so1 - so2\n",
    "    print(f\"Hiện của hai {so1}-{so2}= {ket_qua}\")\n",
    "if toantu == \"*\":\n",
    "    ket_qua = so1 * so2\n",
    "    print(f\"Tích của hai {so1}*{so2}= {ket_qua}\")\n",
    "if toantu =='/'and so2 != 0:\n",
    "    ket_qua = so1/so2\n",
    "    print(f\"thương 2 số {so1}/{so2}={ket_qua}\")\n"
   ]
  },
  {
   "cell_type": "code",
   "execution_count": null,
   "id": "96597fcd",
   "metadata": {},
   "outputs": [],
   "source": []
  }
 ],
 "metadata": {
  "kernelspec": {
   "display_name": "Python 3",
   "language": "python",
   "name": "python3"
  },
  "language_info": {
   "codemirror_mode": {
    "name": "ipython",
    "version": 3
   },
   "file_extension": ".py",
   "mimetype": "text/x-python",
   "name": "python",
   "nbconvert_exporter": "python",
   "pygments_lexer": "ipython3",
   "version": "3.13.7"
  }
 },
 "nbformat": 4,
 "nbformat_minor": 5
}
