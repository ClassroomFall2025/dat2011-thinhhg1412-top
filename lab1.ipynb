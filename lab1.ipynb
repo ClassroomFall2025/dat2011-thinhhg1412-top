{
 "cells": [
  {
   "cell_type": "markdown",
   "id": "fdeff819",
   "metadata": {},
   "source": [
    "# Sinh Viên thực hiện Lab 1 ở Đây"
   ]
  },
  {
   "cell_type": "markdown",
   "id": "acc5d7dc",
   "metadata": {},
   "source": [
    "## Lab 1 - Bài 1"
   ]
  },
  {
   "cell_type": "code",
   "execution_count": 12,
   "id": "001e0507",
   "metadata": {},
   "outputs": [
    {
     "name": "stdout",
     "output_type": "stream",
     "text": [
      "Xin chào!\n",
      "Tôi tên là Hoàng Lê Trung Thịnh\n",
      "Tôi đến từ Vũng Tàu\n"
     ]
    }
   ],
   "source": [
    "print(\"Xin chào!\")\n",
    "print(\"Tôi tên là Hoàng Lê Trung Thịnh\")\n",
    "print(\"Tôi đến từ Vũng Tàu\")\n"
   ]
  },
  {
   "cell_type": "markdown",
   "id": "c0835310",
   "metadata": {},
   "source": [
    "## Lab 1 - Bài 2"
   ]
  },
  {
   "cell_type": "code",
   "execution_count": null,
   "id": "fa9cb39f",
   "metadata": {},
   "outputs": [],
   "source": [
    "# Code lab 1  bài 2 ở đây\n",
    "chieu_dai = float(input('Nhập cạnh đầu tiên: '))\n",
    "chieu_rong = float(input('Nhập cạnh tiếp theo: '))\n",
    "chu_vi = (chieu_dai+chieu_rong)*2\n",
    "dien_tich = (chieu_dai*chieu_rong)\n",
    "print('Chu vi diện tích hình chữ nhật là: ', (chu_vi))\n",
    "print('Diện tích hình chữ nhật của bạn là: ', (dien_tich))\n"
   ]
  },
  {
   "cell_type": "markdown",
   "id": "0f2483fe",
   "metadata": {},
   "source": [
    "## Lab 1 - Bài 3"
   ]
  },
  {
   "cell_type": "code",
   "execution_count": 4,
   "id": "7034990b",
   "metadata": {},
   "outputs": [
    {
     "name": "stdout",
     "output_type": "stream",
     "text": [
      "\"...\n",
      "Sống không giận, không hờn không oán trách ai\n",
      "Sống mỉm cười, với thử thách trông gai\n",
      "Sống vươn lên, theo kịp ánh ban mai\n",
      "Sống chan hòa, với những người chung sống\n",
      "\n",
      "Sống là động, nhưng lòng luôn bất động\n",
      "Sống là thương, nhưng lòng chẳng vấn vương\n",
      "Sống yên vui, danh lợi mãi coi thường\n",
      "Tâm bất biến, giữa dòng đời vạn biến\n",
      "...\"\n"
     ]
    }
   ],
   "source": [
    "# Code lab 1  bài 3 ở đây\n",
    "a = 'Sống'\n",
    "print('\"...')\n",
    "print(f'{a} không giận, không hờn không oán trách ai')\n",
    "print(f'{a} mỉm cười, với thử thách trông gai')\n",
    "print(f'{a} vươn lên, theo kịp ánh ban mai')\n",
    "print(f'{a} chan hòa, với những người chung sống')\n",
    "print()\n",
    "print(f'{a} là động, nhưng lòng luôn bất động')\n",
    "print(f'{a} là thương, nhưng lòng chẳng vấn vương')\n",
    "print(f'{a} yên vui, danh lợi mãi coi thường')\n",
    "print(f'Tâm bất biến, giữa dòng đời vạn biến')\n",
    "print('...\"')"
   ]
  },
  {
   "cell_type": "markdown",
   "id": "d36ea3d3",
   "metadata": {},
   "source": [
    "## Lab 1 - Bài 4"
   ]
  },
  {
   "cell_type": "code",
   "execution_count": 6,
   "id": "4c707ec1",
   "metadata": {},
   "outputs": [
    {
     "name": "stdout",
     "output_type": "stream",
     "text": [
      "Giá trị delta = 25.0\n",
      "Căn delta = 5.0\n"
     ]
    }
   ],
   "source": [
    "# code lab 1 bài 4 ở đây\n",
    "import math\n",
    "\n",
    "a = float(input(\"Nhập hệ số a: \"))\n",
    "b = float(input(\"Nhập hệ số b: \"))\n",
    "c = float(input(\"Nhập hệ số c: \"))\n",
    "\n",
    "delta = b * b - 4 * a * c\n",
    "\n",
    "print(\"Giá trị delta =\", delta)\n",
    "print(\"Căn delta =\", math.sqrt(delta))\n"
   ]
  },
  {
   "cell_type": "markdown",
   "id": "e2b41d4a",
   "metadata": {},
   "source": [
    "## Lab 1 - Bài 5: bài tập làm thêm"
   ]
  },
  {
   "cell_type": "code",
   "execution_count": 11,
   "id": "0e0172f7",
   "metadata": {},
   "outputs": [
    {
     "name": "stdout",
     "output_type": "stream",
     "text": [
      "a + b = 14.0\n",
      "a - b = 6.0\n",
      "a * b = 40.0\n",
      "a / b = 2.5\n",
      "x^y = 32.0\n",
      "Căn bậc hai của x = 4.0\n",
      "sin = 0.49999999999999994\n",
      "cos = 0.8660254037844387\n",
      "tan = 0.5773502691896257\n",
      "log10(x) = 2.0\n",
      "ln(x) = 4.605170185988092\n",
      "log cơ số 10.0 của x = 2.0\n"
     ]
    }
   ],
   "source": [
    "# code lab 1  bài làm thêm ở đây \n",
    "#câu1 - Phép tính cơ bản (Cộng, trừ, nhân, chia)\n",
    "a = float(input(\"Nhập số a: \"))\n",
    "b = float(input(\"Nhập số b: \"))\n",
    "\n",
    "print(\"a + b =\", a + b)\n",
    "print(\"a - b =\", a - b)\n",
    "print(\"a * b =\", a * b)\n",
    "print(\"a / b =\", a / b)\n",
    "\n",
    "#câu2 - Lũy thừa (x^y)\n",
    "x = float(input(\"Nhập x: \"))\n",
    "y = float(input(\"Nhập y: \"))\n",
    "\n",
    "print(\"x^y =\", x ** y)\n",
    "\n",
    "#câu3 - Căn bậc hai\n",
    "import math\n",
    "\n",
    "x = float(input(\"Nhập số x: \"))\n",
    "print(\"Căn bậc hai của x =\", math.sqrt(x))\n",
    "\n",
    "#câu4 - Hàm lượng giác (sin, cos, tan)\n",
    "import math\n",
    "\n",
    "goc = float(input(\"Nhập góc (độ): \"))\n",
    "\n",
    "rad = math.radians(goc)  # đổi độ sang radian\n",
    "print(\"sin =\", math.sin(rad))\n",
    "print(\"cos =\", math.cos(rad))\n",
    "print(\"tan =\", math.tan(rad))\n",
    "\n",
    "#câu5 - Logarit (log10, ln, log cơ số bất kỳ)\n",
    "import math\n",
    "\n",
    "x = float(input(\"Nhập số x: \"))\n",
    "co_so = float(input(\"Nhập cơ số log (ví dụ 2, 10, e...): \"))\n",
    "\n",
    "print(\"log10(x) =\", math.log10(x))\n",
    "print(\"ln(x) =\", math.log(x))         # log tự nhiên (cơ số e)\n",
    "print(\"log cơ số\", co_so, \"của x =\", math.log(x, co_so))\n",
    "\n"
   ]
  }
 ],
 "metadata": {
  "kernelspec": {
   "display_name": "Python 3",
   "language": "python",
   "name": "python3"
  },
  "language_info": {
   "codemirror_mode": {
    "name": "ipython",
    "version": 3
   },
   "file_extension": ".py",
   "mimetype": "text/x-python",
   "name": "python",
   "nbconvert_exporter": "python",
   "pygments_lexer": "ipython3",
   "version": "3.13.7"
  }
 },
 "nbformat": 4,
 "nbformat_minor": 5
}
