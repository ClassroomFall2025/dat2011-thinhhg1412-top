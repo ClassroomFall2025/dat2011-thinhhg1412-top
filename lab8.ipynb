{
 "cells": [
  {
   "cell_type": "markdown",
   "id": "fdeff819",
   "metadata": {},
   "source": [
    "# Sinh Viên thực hiện Lab 8 ở Đây"
   ]
  },
  {
   "cell_type": "markdown",
   "id": "acc5d7dc",
   "metadata": {},
   "source": [
    "## Lab 8 - Bài 1"
   ]
  },
  {
   "cell_type": "code",
   "execution_count": 1,
   "id": "001e0507",
   "metadata": {},
   "outputs": [
    {
     "name": "stdout",
     "output_type": "stream",
     "text": [
      "Họ: HOÀNG\n",
      "Tên đệm: Lê Trung\n",
      "Tên: THỊNH\n"
     ]
    }
   ],
   "source": [
    "# Code lab 8 bài 1 ở đây\n",
    "def tach_ten(hoten):\n",
    "    # Tách các phần của họ và tên\n",
    "    parts = hoten.strip().split()\n",
    "    \n",
    "    # Kiểm tra xem người dùng có nhập đủ họ và tên không\n",
    "    if len(parts) < 2:\n",
    "        print(\"Vui lòng nhập đầy đủ họ và tên.\")\n",
    "        return\n",
    "    \n",
    "    # Lấy phần họ là phần đầu tiên\n",
    "    ho = parts[0].upper()\n",
    "    \n",
    "    # Lấy phần tên là phần cuối cùng\n",
    "    ten = parts[-1].upper()\n",
    "    \n",
    "    # Phần tên đệm là phần còn lại\n",
    "    tendem = \" \".join(parts[1:-1])\n",
    "    \n",
    "    # Xuất họ, tên đệm và tên\n",
    "    print(f\"Họ: {ho}\")\n",
    "    print(f\"Tên đệm: {tendem}\")\n",
    "    print(f\"Tên: {ten}\")\n",
    "\n",
    "# Nhập họ và tên từ bàn phím\n",
    "hoten = input(\"Nhập họ và tên: \")\n",
    "tach_ten(hoten)\n"
   ]
  },
  {
   "cell_type": "markdown",
   "id": "c0835310",
   "metadata": {},
   "source": [
    "## Lab 8 - Bài 2"
   ]
  },
  {
   "cell_type": "code",
   "execution_count": 2,
   "id": "fa9cb39f",
   "metadata": {},
   "outputs": [
    {
     "name": "stdout",
     "output_type": "stream",
     "text": [
      "\n",
      "Thông tin sinh viên:\n",
      "Họ và tên: Hoàng Lê Trung Thịnh\n",
      "Email: thinhhg1412@gmail.com\n",
      "Số điện thoại: 0838824838\n",
      "CMND: 077200000774\n"
     ]
    }
   ],
   "source": [
    "# Code lab 8  bài 2 ở đây\n",
    "import re\n",
    "\n",
    "def kiem_tra_email(email):\n",
    "    # Định dạng email cơ bản\n",
    "    pattern = r'^[a-zA-Z0-9_.+-]+@[a-zA-Z0-9-]+\\.[a-zA-Z0-9-.]+$'\n",
    "    if re.match(pattern, email):\n",
    "        return True\n",
    "    else:\n",
    "        return False\n",
    "\n",
    "def kiem_tra_sdt(sdt):\n",
    "    # Định dạng số điện thoại (tối thiểu 10 số và tối đa 11 số)\n",
    "    pattern = r'^\\d{10,11}$'\n",
    "    if re.match(pattern, sdt):\n",
    "        return True\n",
    "    else:\n",
    "        return False\n",
    "\n",
    "def kiem_tra_cmnd(cmnd):\n",
    "    # Định dạng CMND là dãy số có 9 hoặc 12 chữ số\n",
    "    pattern = r'^\\d{9}$|^\\d{12}$'\n",
    "    if re.match(pattern, cmnd):\n",
    "        return True\n",
    "    else:\n",
    "        return False\n",
    "def nhap_thong_tin_sinh_vien():\n",
    "    # Nhập thông tin sinh viên từ bàn phím\n",
    "    hoten = input(\"Nhập họ và tên: \")\n",
    "    email = input(\"Nhập email: \")\n",
    "    sdt = input(\"Nhập số điện thoại: \")\n",
    "    cmnd = input(\"Nhập chứng minh nhân dân (CMND): \")\n",
    "    # Kiểm tra email\n",
    "    if not kiem_tra_email(email):\n",
    "        print(\"Email không đúng định dạng!\")\n",
    "    # Kiểm tra số điện thoại\n",
    "    if not kiem_tra_sdt(sdt):\n",
    "        print(\"Số điện thoại không đúng định dạng!\")\n",
    "    # Kiểm tra CMND\n",
    "    if not kiem_tra_cmnd(cmnd):\n",
    "        print(\"CMND không đúng định dạng!\")\n",
    "    \n",
    "    # Nếu tất cả đều đúng, in thông tin sinh viên\n",
    "    if kiem_tra_email(email) and kiem_tra_sdt(sdt) and kiem_tra_cmnd(cmnd):\n",
    "        print(\"\\nThông tin sinh viên:\")\n",
    "        print(f\"Họ và tên: {hoten}\")\n",
    "        print(f\"Email: {email}\")\n",
    "        print(f\"Số điện thoại: {sdt}\")\n",
    "        print(f\"CMND: {cmnd}\")\n",
    "# Gọi hàm để nhập thông tin sinh viên\n",
    "nhap_thong_tin_sinh_vien()\n",
    "\n"
   ]
  },
  {
   "cell_type": "markdown",
   "id": "0f2483fe",
   "metadata": {},
   "source": [
    "## Lab 8 - Bài 3"
   ]
  },
  {
   "cell_type": "code",
   "execution_count": 1,
   "id": "7034990b",
   "metadata": {},
   "outputs": [],
   "source": [
    "# Code lab 8  bài 3 ở đây\n",
    "import random\n",
    "\n",
    "# Tạo danh sách 1.000.000 số ngẫu nhiên từ 0 đến 100\n",
    "numbers = [str(random.randint(0, 100)) for _ in range(1_000_000)]\n",
    "\n",
    "# Ghi tất cả các số ra file, cách nhau bằng dấu cách\n",
    "with open(\"so_ngau_nhien.txt\", \"w\") as file:\n",
    "    file.write(\" \".join(numbers))\n"
   ]
  },
  {
   "cell_type": "markdown",
   "id": "d36ea3d3",
   "metadata": {},
   "source": [
    "## Lab 8 - Bài 4"
   ]
  },
  {
   "cell_type": "code",
   "execution_count": 2,
   "id": "4c707ec1",
   "metadata": {},
   "outputs": [
    {
     "name": "stdout",
     "output_type": "stream",
     "text": [
      "Trung bình (Mean): 50.016974\n",
      "Độ lệch chuẩn (Standard Deviation): 29.137247585565127\n"
     ]
    }
   ],
   "source": [
    "# code lab 8 bài 4 ở đây\n",
    "import statistics\n",
    "\n",
    "# Đọc dữ liệu từ file\n",
    "with open(\"so_ngau_nhien.txt\", \"r\") as file:\n",
    "    data = file.read().split()  # Tách các số theo dấu cách\n",
    "\n",
    "# Chuyển tất cả các phần tử sang dạng số nguyên\n",
    "numbers = [int(x) for x in data]\n",
    "\n",
    "# Tính trung bình và độ lệch chuẩn\n",
    "mean_value = statistics.mean(numbers)\n",
    "std_dev = statistics.stdev(numbers)\n",
    "\n",
    "# In kết quả ra màn hình\n",
    "print(\"Trung bình (Mean):\", mean_value)\n",
    "print(\"Độ lệch chuẩn (Standard Deviation):\", std_dev)\n"
   ]
  },
  {
   "cell_type": "markdown",
   "id": "e2b41d4a",
   "metadata": {},
   "source": [
    "## Lab 8 - Bài 5: bài tập làm thêm"
   ]
  },
  {
   "cell_type": "code",
   "execution_count": null,
   "id": "0e0172f7",
   "metadata": {},
   "outputs": [],
   "source": [
    "# code lab 8  bài làm thêm ở đây "
   ]
  }
 ],
 "metadata": {
  "kernelspec": {
   "display_name": "Python 3",
   "language": "python",
   "name": "python3"
  },
  "language_info": {
   "codemirror_mode": {
    "name": "ipython",
    "version": 3
   },
   "file_extension": ".py",
   "mimetype": "text/x-python",
   "name": "python",
   "nbconvert_exporter": "python",
   "pygments_lexer": "ipython3",
   "version": "3.13.7"
  }
 },
 "nbformat": 4,
 "nbformat_minor": 5
}
