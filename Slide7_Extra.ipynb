{
 "cells": [
  {
   "cell_type": "markdown",
   "id": "3096e205",
   "metadata": {},
   "source": [
    "# làm việc với file trong python"
   ]
  },
  {
   "cell_type": "markdown",
   "id": "b3e228b4",
   "metadata": {},
   "source": [
    "## file csv \n",
    "## ghi dữ liệu vào file\n"
   ]
  },
  {
   "cell_type": "code",
   "execution_count": null,
   "id": "8b0acde3",
   "metadata": {},
   "outputs": [],
   "source": [
    "import os\n",
    "\n",
    "# Kiểm tra file có tồn tại không\n",
    "file_exists = os.path.exists(\"sinhvien.csv\")\n",
    "\n",
    "# Mở file: nếu chưa có thì tạo mới ('w'), nếu có thì ghi thêm ('a')\n",
    "mode = \"a\" if file_exists else \"w\"\n",
    "\n",
    "with open(\"sinhvien.csv\", mode, encoding=\"utf-8\") as f:\n",
    "    # Nếu file chưa tồn tại -> ghi tiêu đề (header)\n",
    "    if not file_exists:\n",
    "        f.write(\"MSSV,Họ tên,Lớp,Năm sinh,Điểm trung bình\\n\")\n",
    "\n",
    "    # Nhập số lượng sinh viên mới\n",
    "    n = int(input(\"Nhập số lượng sinh viên cần ghi thêm: \"))\n",
    "\n",
    "    # Ghi từng sinh viên vào file\n",
    "    for i in range(n):\n",
    "        print(f\"\\n--- Sinh viên thứ {i+1} ---\")\n",
    "        mssv = input(\"MSSV: \")\n",
    "        hoten = input(\"Họ tên: \")\n",
    "        lop = input(\"Lớp: \")\n",
    "        namsinh = input(\"Năm sinh: \")\n",
    "        diem = input(\"Điểm trung bình: \")\n",
    "\n",
    "        # Ghi một dòng CSV bằng f-string\n",
    "        line = f\"{mssv},{hoten},{lop},{namsinh},{diem}\\n\"\n",
    "        f.write(line)\n",
    "\n",
    "print(f\"\\n Đã ghi dữ liệu sinh viên vào file  thành công!\")\n"
   ]
  },
  {
   "cell_type": "markdown",
   "id": "189b4f08",
   "metadata": {},
   "source": [
    "## đọc dữ liêu từ file đã ghi"
   ]
  },
  {
   "cell_type": "code",
   "execution_count": 4,
   "id": "f7a27bee",
   "metadata": {},
   "outputs": [
    {
     "name": "stdout",
     "output_type": "stream",
     "text": [
      "\n",
      "Nội dung file sinhvien.csv:\n",
      "MSSV,Họ tên,Lớp,Năm sinh,Điểm trung bình\n",
      "ps0001,trần văn Huy,DP20301,2020,6\n",
      "ps0002,Ngo tan Dat,DP20302,2020,4\n"
     ]
    }
   ],
   "source": [
    "with open(\"sinhvien.csv\", \"r\", encoding=\"utf-8\") as f:\n",
    "    print(\"\\nNội dung file sinhvien.csv:\")\n",
    "    for line in f:\n",
    "        print(line.strip())"
   ]
  },
  {
   "cell_type": "code",
   "execution_count": 6,
   "id": "7cbaeaa3",
   "metadata": {},
   "outputs": [
    {
     "name": "stdout",
     "output_type": "stream",
     "text": [
      "['MSSV,Họ tên,Lớp,Năm sinh,Điểm trung bình\\n', 'ps0001,trần văn Huy,DP20301,2020,6\\n', 'ps0002,Ngo tan Dat,DP20302,2020,4\\n']\n",
      "2020\n",
      "2020\n"
     ]
    }
   ],
   "source": [
    "with open(\"sinhvien.csv\", \"r\", encoding=\"utf-8\") as f:\n",
    "    lines = f.readlines()\n",
    "print(lines)\n",
    "# Bỏ dòng tiêu đề\n",
    "for line in lines[1:]:\n",
    "    data = line.strip().split(\",\")  \n",
    "    print(data[3])  \n"
   ]
  },
  {
   "cell_type": "code",
   "execution_count": 2,
   "id": "baa04980",
   "metadata": {},
   "outputs": [
    {
     "name": "stdout",
     "output_type": "stream",
     "text": [
      " Không tìm thấy sinh viên có mã: ps001\n"
     ]
    }
   ],
   "source": [
    "mssv_can_tim = input(\"Nhập mã sinh viên cần tìm: \").strip()\n",
    "\n",
    "found = False\n",
    "with open(\"sinhvien.csv\", \"r\", encoding=\"utf-8\") as f:\n",
    "    lines = f.readlines()\n",
    "\n",
    "header = lines[0].strip().split(\",\")  \n",
    "\n",
    "for line in lines[1:]:\n",
    "    data = line.strip().split(\",\")\n",
    "    if data[0].lower() == mssv_can_tim.lower():\n",
    "        found = True\n",
    "        print(\"\\nThông tin sinh viên tìm thấy:\")\n",
    "        for i in range(len(header)):\n",
    "            print(f\"{header[i]:<20}\", end=\"\")\n",
    "        \n",
    "        print()   \n",
    "        for i in range(len(header)):\n",
    "            \n",
    "            print(f\"{data[i]:<20}\", end=\"\")\n",
    "        break\n",
    "\n",
    "if not found:\n",
    "    print(\" Không tìm thấy sinh viên có mã:\", mssv_can_tim)\n"
   ]
  },
  {
   "cell_type": "code",
   "execution_count": null,
   "id": "05c71400",
   "metadata": {},
   "outputs": [],
   "source": []
  },
  {
   "cell_type": "markdown",
   "id": "e46a9ea8",
   "metadata": {},
   "source": [
    "## file json\n"
   ]
  },
  {
   "cell_type": "code",
   "execution_count": 21,
   "id": "3b9cfa8c",
   "metadata": {},
   "outputs": [
    {
     "name": "stdout",
     "output_type": "stream",
     "text": [
      " Tạo file dữ liệu thành công!\n"
     ]
    }
   ],
   "source": [
    "with open(\"test.json\",\"w\", encoding=\"utf-8\") as file:\n",
    "\n",
    "    brands = (\"Toyota\", \"Honda\", \"Mazda\", \"Hyundai\", \"KIA\")\n",
    "    models = (\"Vios\", \"City\", \"CX 5\", \"Santafe\", \"Morning\")\n",
    "    years = (2016, 2017, 2018, 2019, 2020)\n",
    "    colors = (\"red\", \"orange\", \"yellow\", \"green\", \"blue\")\n",
    "\n",
    "    # ⚡ Dùng f-string thay cho template.format()\n",
    "    file.write(\"[\")\n",
    "    for x in range(5):\n",
    "        \n",
    "        if x !=4:\n",
    "            record = f'{{\"brand\": \"{brands[x]}\", \"model\": \"{models[x]}\", \"year\": {years[x]}, \"color\": \"{colors[x]}\"}},\\n'\n",
    "        else:\n",
    "\n",
    "            record = f'{{\"brand\": \"{brands[x]}\", \"model\": \"{models[x]}\", \"year\": {years[x]}, \"color\": \"{colors[x]}\"}}\\n'\n",
    "\n",
    "        file.write(record)\n",
    "    file.write(\"]\")\n",
    "\n",
    "print(\" Tạo file dữ liệu thành công!\")\n"
   ]
  },
  {
   "cell_type": "code",
   "execution_count": null,
   "id": "3f3b68b1",
   "metadata": {},
   "outputs": [
    {
     "name": "stdout",
     "output_type": "stream",
     "text": [
      " Dữ liệu đã được ghi thành công vào tệp 'cartest.json'.\n"
     ]
    }
   ],
   "source": [
    "# sử dụng thư viện json\n",
    "import json\n",
    "\n",
    "filename = \"cartest.json\" \n",
    "\n",
    "cars = [\n",
    "    {\"brand\": \"Toyota\", \"model\": \"Vios\", \"year\": 2016, \"color\": \"red\"},\n",
    "    {\"brand\": \"Honda\", \"model\": \"City\", \"year\": 2017, \"color\": \"orange\"},\n",
    "    {\"brand\": \"Mazda\", \"model\": \"CX 5\", \"year\": 2018, \"color\": \"yellow\"},\n",
    "    {\"brand\": \"Hyundai\", \"model\": \"Santafe\", \"year\": 2019, \"color\": \"green\"},\n",
    "    {\"brand\": \"KIA\", \"model\": \"Morning\", \"year\": 2020, \"color\": \"blue\"}\n",
    "]\n",
    "\n",
    "  \n",
    "with open(filename, \"w\", encoding=\"utf-8\") as f:\n",
    "    json.dump(cars, f, indent=4) \n",
    "    print(f\" Dữ liệu đã được ghi thành công vào tệp '{filename}'.\")\n"
   ]
  },
  {
   "cell_type": "code",
   "execution_count": 24,
   "id": "ed35944b",
   "metadata": {},
   "outputs": [
    {
     "name": "stdout",
     "output_type": "stream",
     "text": [
      "{\"brand\": \"Toyota\", \"model\": \"Vios\", \"year\": 2016, \"color\": \"red\"}\n",
      "{\"brand\": \"Honda\", \"model\": \"City\", \"year\": 2017, \"color\": \"orange\"}\n",
      "{\"brand\": \"Mazda\", \"model\": \"CX 5\", \"year\": 2018, \"color\": \"yellow\"}\n",
      "{\"brand\": \"Hyundai\", \"model\": \"Santafe\", \"year\": 2019, \"color\": \"green\"}\n",
      "{\"brand\": \"KIA\", \"model\": \"Morning\", \"year\": 2020, \"color\": \"blue\"}\n"
     ]
    }
   ],
   "source": [
    "import json\n",
    "with open(\"cartest.json\",\"r\",encoding=\"utf-8\") as file:\n",
    "    cars = json.load(file)\n",
    "\n",
    "for i, car in enumerate(cars):\n",
    "    print(f'{{\"brand\": \"{car.get(\"brand\")}\", \"model\": \"{car.get(\"model\")}\", \"year\": {car.get(\"year\")}, \"color\": \"{car.get(\"color\")}\"}}')\n"
   ]
  }
 ],
 "metadata": {
  "kernelspec": {
   "display_name": "Python 3",
   "language": "python",
   "name": "python3"
  },
  "language_info": {
   "codemirror_mode": {
    "name": "ipython",
    "version": 3
   },
   "file_extension": ".py",
   "mimetype": "text/x-python",
   "name": "python",
   "nbconvert_exporter": "python",
   "pygments_lexer": "ipython3",
   "version": "3.13.7"
  }
 },
 "nbformat": 4,
 "nbformat_minor": 5
}
