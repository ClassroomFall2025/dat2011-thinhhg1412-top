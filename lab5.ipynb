{
 "cells": [
  {
   "cell_type": "markdown",
   "id": "fdeff819",
   "metadata": {},
   "source": [
    "# Sinh Viên thực hiện Lab 5 ở Đây"
   ]
  },
  {
   "cell_type": "markdown",
   "id": "acc5d7dc",
   "metadata": {},
   "source": [
    "## Lab 5 - Bài 1"
   ]
  },
  {
   "cell_type": "code",
   "execution_count": 1,
   "id": "001e0507",
   "metadata": {},
   "outputs": [
    {
     "name": "stdout",
     "output_type": "stream",
     "text": [
      "sản phẩm Beer có giá200000 và được giảm giá 20000\n"
     ]
    },
    {
     "data": {
      "text/plain": [
       "<bound method SanPham.xuat_tt_sp of <sp.SanPham object at 0x0000023484C13C50>>"
      ]
     },
     "execution_count": 1,
     "metadata": {},
     "output_type": "execute_result"
    }
   ],
   "source": [
    "# Code lab 5 bài 1 ở đây\n",
    "from sp import *\n",
    "sp1 = SanPham(\"Beer\", 200000, 20000)\n",
    "sp1.xuat_tt_sp()\n",
    "sp2 = SanPham(\"Rượu\",400000,0)\n",
    "sp2.xuat_tt_sp"
   ]
  },
  {
   "cell_type": "markdown",
   "id": "c0835310",
   "metadata": {},
   "source": [
    "## Lab 5 - Bài 2"
   ]
  },
  {
   "cell_type": "code",
   "execution_count": 2,
   "id": "fa9cb39f",
   "metadata": {},
   "outputs": [
    {
     "name": "stdout",
     "output_type": "stream",
     "text": [
      "\n",
      "--- Thông tin sản phẩm 1 ---\n",
      "Tên sản phẩm: \n",
      "Giá: 0 VNĐ\n",
      "Giảm giá: 0.0%\n",
      "\n",
      "--- Thông tin sản phẩm 2 ---\n",
      "Tên sản phẩm: \n",
      "Giá: 0 VNĐ\n",
      "Giảm giá: 0.0%\n"
     ]
    }
   ],
   "source": [
    "# Code lab 5  bài 2 ở đây\n",
    "# Bài 2\n",
    "from sp import SanPham\n",
    "# Nếu bạn tách le riêng (có file SanPham.py), bạn cần dòng này:\n",
    "# from sp import SanPham \n",
    "# Nếu không, bỏ qua dòng trên và đảm bảo lớp SanPham được định nghĩa trong file này.\n",
    "\n",
    "# Khởi tạo đối tượng SanPham và truyền 3 đối số rỗng/mặc định để tránh lỗi TypeError\n",
    "# Lỗi ban đầu: TypeError: SanPham.__init__() missing 3 required positional arguments\n",
    "sp1 = SanPham(\"\", 0.0, 0.0) \n",
    "\n",
    "# Gán giá trị sau khi nhập\n",
    "sp1.ten = input(\"Nhập tên sản phẩm 1: \")\n",
    "sp1.gia = float(input(\"Nhập giá sản phẩm 1: \"))\n",
    "sp1.giam_gia = float(input(\"Nhập giảm giá sản phẩm 1: \"))\n",
    "\n",
    "# Khởi tạo đối tượng SanPham thứ hai\n",
    "sp2 = SanPham(\"\", 0.0, 0.0)\n",
    "\n",
    "# Gán giá trị sau khi nhập\n",
    "sp2.ten = input(\"Nhập tên sản phẩm 2: \")\n",
    "sp2.gia = float(input(\"Nhập giá sản phẩm 2: \"))\n",
    "sp2.giam_gia = float(input(\"Nhập giảm giá sản phẩm 2: \"))\n",
    "\n",
    "print(\"\\n--- Thông tin sản phẩm 1 ---\")\n",
    "# Phương thức .xuat() cần phải được định nghĩa trong lớp SanPham\n",
    "sp1.xuat()\n",
    "\n",
    "print(\"\\n--- Thông tin sản phẩm 2 ---\")\n",
    "sp2.xuat()\n"
   ]
  },
  {
   "cell_type": "markdown",
   "id": "0f2483fe",
   "metadata": {},
   "source": [
    "## Lab 5 - Bài 3"
   ]
  },
  {
   "cell_type": "code",
   "execution_count": 2,
   "id": "7034990b",
   "metadata": {},
   "outputs": [
    {
     "name": "stdout",
     "output_type": "stream",
     "text": [
      "Tên sản phẩm: laptop\n",
      "Giá: 15,000,000 VNĐ\n",
      "Giảm giá: 0%\n"
     ]
    }
   ],
   "source": [
    "# Code lab 5  bài 3 ở \n",
    "from sp import SanPham\n",
    "\n",
    "sp1 = SanPham()\n",
    "\n",
    "\n",
    "\n",
    "sp1.set_ten(\"laptop\")\n",
    "sp1._gia = 15000000\n",
    "sp1.xuat()\n"
   ]
  },
  {
   "cell_type": "markdown",
   "id": "d36ea3d3",
   "metadata": {},
   "source": [
    "## Lab 5 - Bài 4"
   ]
  },
  {
   "cell_type": "code",
   "execution_count": 5,
   "id": "4c707ec1",
   "metadata": {},
   "outputs": [
    {
     "name": "stdout",
     "output_type": "stream",
     "text": [
      "\n",
      "--- Thông tin sản phẩm 1 ---\n",
      "Tên sản phẩm: Laptop\n",
      "Đơn giá: 20000000\n",
      "Giảm giá: 1000000\n",
      "Thuế nhập khẩu: 2000000.0\n",
      "\n",
      "--- Thông tin sản phẩm 2 ---\n",
      "Tên sản phẩm: Điện thoại\n",
      "Đơn giá: 10000000\n",
      "Giảm giá: 500000\n",
      "Thuế nhập khẩu: 1000000.0\n"
     ]
    }
   ],
   "source": [
    "# code lab 5 bài 4 ở đây\n",
    "# Bài 4\n",
    "class SanPham:\n",
    "    def __init__(self, ten, gia, giam_gia):\n",
    "        self.ten = ten\n",
    "        self.gia = gia\n",
    "        self.giam_gia = giam_gia\n",
    "\n",
    "    def tinh_thue_nhap_khau(self):\n",
    "        return self.gia * 0.1\n",
    "\n",
    "    def xuat(self):\n",
    "        print(f\"Tên sản phẩm: {self.ten}\")\n",
    "        print(f\"Đơn giá: {self.gia}\")\n",
    "        print(f\"Giảm giá: {self.giam_gia}\")\n",
    "        print(f\"Thuế nhập khẩu: {self.tinh_thue_nhap_khau()}\")\n",
    "\n",
    "# Chương trình chính\n",
    "sp1 = SanPham(\"Laptop\", 20000000, 1000000)\n",
    "sp2 = SanPham(\"Điện thoại\", 10000000, 500000)\n",
    "\n",
    "print(\"\\n--- Thông tin sản phẩm 1 ---\")\n",
    "sp1.xuat()\n",
    "print(\"\\n--- Thông tin sản phẩm 2 ---\")\n",
    "sp2.xuat()\n"
   ]
  },
  {
   "cell_type": "markdown",
   "id": "e2b41d4a",
   "metadata": {},
   "source": [
    "## Lab 5 - Bài 5: bài tập làm thêm"
   ]
  },
  {
   "cell_type": "code",
   "execution_count": null,
   "id": "0e0172f7",
   "metadata": {},
   "outputs": [],
   "source": [
    "# code lab 5  bài làm thêm ở đây "
   ]
  }
 ],
 "metadata": {
  "kernelspec": {
   "display_name": "Python 3",
   "language": "python",
   "name": "python3"
  },
  "language_info": {
   "codemirror_mode": {
    "name": "ipython",
    "version": 3
   },
   "file_extension": ".py",
   "mimetype": "text/x-python",
   "name": "python",
   "nbconvert_exporter": "python",
   "pygments_lexer": "ipython3",
   "version": "3.13.7"
  }
 },
 "nbformat": 4,
 "nbformat_minor": 5
}
