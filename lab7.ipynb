{
 "cells": [
  {
   "cell_type": "markdown",
   "id": "fdeff819",
   "metadata": {},
   "source": [
    "# Sinh Viên thực hiện Lab 7 ở Đây"
   ]
  },
  {
   "cell_type": "markdown",
   "id": "acc5d7dc",
   "metadata": {},
   "source": [
    "## Lab 7 - Bài 1"
   ]
  },
  {
   "cell_type": "code",
   "execution_count": 10,
   "id": "001e0507",
   "metadata": {},
   "outputs": [
    {
     "name": "stdout",
     "output_type": "stream",
     "text": [
      "Tự nguyện\n",
      "Trương Quốc Khánh\n",
      "Nếu là chim, tôi sẽ là loài bồ câu trắng\n",
      "Nếu là hoa, tôi sẽ là một đóa hướng dương\n",
      "Nếu là mây, tôi sẽ là một vầng mây ấm\n",
      "Là người, tôi sẽ chết cho quê hương.\n",
      "\n",
      "Là chim, tôi sẽ cất cao đôi cánh mềm\n",
      "Từ nam ra ngoài bắc báo tin nối liền\n",
      "Là hoa, tôi nở tình yêu ban sớm\n",
      "Cùng muôn trái tim ngất ngây hoà bình.\n",
      "\n",
      "Là mây, theo làn gió tung bay khắp trời\n",
      "Nghìn xưa oai hùng đó tôi xin tiếp lời\n",
      "Là người, xin một lần khi nằm xuống\n",
      "Nhìn anh em đứng lên phất cao ngọn cờ.\n",
      "Tự nguyện\n",
      "\n",
      "Trương Quốc Khánh\n",
      "\n"
     ]
    }
   ],
   "source": [
    "# Code lab 7 bài 1 ở đây\n",
    "file = open(\"DAT2011 - Lab 7 - Resource.txt\", \"r\", encoding=\"utf-8\") \n",
    "noidung = file.read()\n",
    "print(noidung)\n",
    "with open(\"DAT2011 - Lab 7 - Resource.txt\",\"r\", encoding=\"utf-8\") as file:\n",
    "    dong = file.readlines()\n",
    "    print(dong[0])\n",
    "    print(dong[1])"
   ]
  },
  {
   "cell_type": "markdown",
   "id": "c0835310",
   "metadata": {},
   "source": [
    "## Lab 7 - Bài 2"
   ]
  },
  {
   "cell_type": "code",
   "execution_count": 3,
   "id": "fa9cb39f",
   "metadata": {},
   "outputs": [],
   "source": [
    "# Code lab 7  bài 2 ở đây\n",
    "with open(\"Lab7-Exercise2.txt\", \"w\", encoding=\"utf-8\") as file:\n",
    "    file.write(\"“… \\nNếu một mai tôi có bay lên trời\\nThì người ơi tôi đã sống rất thảnh thơi\\nNếu một mai tôi có đi qua đời\\nThì người ơi tôi đã sống rất tuyệt vời\\n...”\")\n"
   ]
  },
  {
   "cell_type": "markdown",
   "id": "0f2483fe",
   "metadata": {},
   "source": [
    "## Lab 7 - Bài 3"
   ]
  },
  {
   "cell_type": "code",
   "execution_count": 6,
   "id": "7034990b",
   "metadata": {},
   "outputs": [
    {
     "name": "stdout",
     "output_type": "stream",
     "text": [
      "\n",
      "--- Bài thơ thứ 1 ---\n",
      "\n",
      "--- Bài thơ thứ 2 ---\n",
      "\n",
      "--- Bài thơ thứ 3 ---\n",
      "\n",
      "--- Bài thơ thứ 4 ---\n",
      "\n",
      "--- Bài thơ thứ 5 ---\n",
      "\n",
      " Đã lưu thông tin 5 bài thơ vào file 'Baitho.csv' thành công!\n"
     ]
    }
   ],
   "source": [
    "# Code lab 7  bài 3 ở đây\n",
    "# Nhập tên file CSV\n",
    "filename = input(\"Nhập tên file .csv: \")\n",
    "\n",
    "# Mở file ở chế độ ghi (w = ghi mới)\n",
    "with open(filename, \"w\", encoding=\"utf-8\") as f:\n",
    "     # Ghi dòng tiêu đề (header)\n",
    "    f.write(\"Tiêu đề, Tác giả, Năm sáng tác\\n\")\n",
    "\n",
    "     # Ghi từng bài thơ\n",
    "    for i in range(5):\n",
    "        print(f\"\\n--- Bài thơ thứ {i+1} ---\")\n",
    "        tieude = input(\"Tiêu đề: \")\n",
    "        tacgia = input(\"Tác giả: \")\n",
    "        namsangtac = input(\"Năm sáng tác: \")\n",
    "        \n",
    "        # Ghi một dòng vào file bằng f-string\n",
    "        line = f\"{tieude},{tacgia},{namsangtac}\\n\"\n",
    "        f.write(line)\n",
    "\n",
    "print(f\"\\n Đã lưu thông tin {5} bài thơ vào file '{filename}' thành công!\")"
   ]
  },
  {
   "cell_type": "markdown",
   "id": "d36ea3d3",
   "metadata": {},
   "source": [
    "## Lab 7 - Bài 4"
   ]
  },
  {
   "cell_type": "code",
   "execution_count": 1,
   "id": "4c707ec1",
   "metadata": {},
   "outputs": [],
   "source": [
    "# code lab 7 bài 4 ở đây\n",
    "with open(\"DAT2011 - Lab 7 - Resource.xml\", \"w\", encoding=\"utf-8\") as f:\n",
    "    bai_tho = 'Tự nguyện'\n",
    "    tac_gia = 'Trương Quốc Khánh'\n",
    "    kho_1 = '''Nếu là chim, tôi sẽ là loài bồ câu trắng Nếu là hoa, tôi sẽ là một đóa hướng dương Nếu là mây, tôi sẽ là một vầng mây ấm  Là người, tôi sẽ chết cho quê hương.'''\n",
    "    kho_2 = '''Là chim, tôi sẽ cất cao đôi cánh mềm Từ nam ra ngoài bắc báo tin nối liền Là hoa, tôi nở tình yêu ban sớm Cùng muôn trái tim ngất ngây hoà bình.'''\n",
    "    kho_3 = '''Là mây, theo làn gió tung bay khắp trời Nghìn xưa oai hùng đó tôi xin tiếp lời Là người, xin một lần khi nằm xuống Nhìn anh em đứng lên phất cao ngọn cờ.'''\n",
    "    f.write(\"<songs>\\n\")\n",
    "    f.write(\" <songs>\\n\")\n",
    "    f.write(f\"  <name>{bai_tho}</name>\\n\")\n",
    "    f.write(f\"  <author>{tac_gia}</author>\\n\")\n",
    "    f.write(f\"  <section>{kho_1}</section>\\n\")\n",
    "    f.write(f\"  <section>{kho_2}</section>\\n\")\n",
    "    f.write(f\"  <section>{kho_3}</section>\\n\")\n",
    "    f.write(\" /<songs>\\n\")\n",
    "    f.write(\"</song>\\n\")"
   ]
  },
  {
   "cell_type": "markdown",
   "id": "e2b41d4a",
   "metadata": {},
   "source": [
    "## Lab 7 - Bài 5: bài tập làm thêm"
   ]
  },
  {
   "cell_type": "code",
   "execution_count": null,
   "id": "0e0172f7",
   "metadata": {},
   "outputs": [],
   "source": [
    "# code lab 7  bài làm thêm ở đây "
   ]
  }
 ],
 "metadata": {
  "kernelspec": {
   "display_name": "Python 3",
   "language": "python",
   "name": "python3"
  },
  "language_info": {
   "codemirror_mode": {
    "name": "ipython",
    "version": 3
   },
   "file_extension": ".py",
   "mimetype": "text/x-python",
   "name": "python",
   "nbconvert_exporter": "python",
   "pygments_lexer": "ipython3",
   "version": "3.13.7"
  }
 },
 "nbformat": 4,
 "nbformat_minor": 5
}
