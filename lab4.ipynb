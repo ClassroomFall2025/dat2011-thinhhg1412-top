{
 "cells": [
  {
   "cell_type": "markdown",
   "id": "fdeff819",
   "metadata": {},
   "source": [
    "# Sinh Viên thực hiện Lab 4 ở Đây"
   ]
  },
  {
   "cell_type": "code",
   "execution_count": null,
   "id": "ebf0f954",
   "metadata": {},
   "outputs": [],
   "source": []
  },
  {
   "cell_type": "markdown",
   "id": "acc5d7dc",
   "metadata": {},
   "source": [
    "## Lab 1 - Bài 1"
   ]
  },
  {
   "cell_type": "code",
   "execution_count": 2,
   "id": "001e0507",
   "metadata": {},
   "outputs": [
    {
     "name": "stdout",
     "output_type": "stream",
     "text": [
      "Tổng tiền của bạn là: 135000 VND\n"
     ]
    }
   ],
   "source": [
    "# Code lab 4 bài 1 ở đây\n",
    "# Viết một hàm để tính tiền nước sinh hoạt theo phương pháp lũy tiến.\n",
    "# Tham số truyền vào hàm là số nước sử dụng trong tháng.\n",
    "# Hàm để tính tiền nước sinh hoạt theo phương pháp lũy tiến.\n",
    "# def tinh_tien_nuoc(sanluongnuoc):\n",
    "#     giabannuoc = (7500, 8800, 12000, 24000) # Kiểu dữ liệu Tuple\n",
    "#     tongtien_nuoc = 0\n",
    "\n",
    "#     # Tính tiền nước theo từng bậc\n",
    "#     if sanluongnuoc <= 10:\n",
    "#         tongtien_nuoc = sanluongnuoc * giabannuoc[0]\n",
    "#     elif sanluongnuoc <= 20:\n",
    "#         tongtien_nuoc = 10 * giabannuoc[0] + (sanluongnuoc - 10) * giabannuoc[2]\n",
    "#     elif tongtien_nuoc <= 30:\n",
    "#         tongtien_nuoc = 10 * giabannuoc[0] + 10 * giabannuoc[1] + (sanluongnuoc - 20) * giabannuoc[2]\n",
    "#     else:\n",
    "#         tongtien_nuoc = 10 * giabannuoc[0] + 10 * giabannuoc[1] + 10 * giabannuoc[2] + (sanluongnuoc - 30) * giabannuoc[3]\n",
    "\n",
    "#     return tongtien_nuoc\n",
    "# Nhập sản lượng nước từ người dùng \n",
    "import lab4\n",
    "sanluong_nuoc = int(input('Please nhập sản lượng nước\" '))\n",
    "tongtien_nuoc = tinh_tien_nuoc(sanluong_nuoc)\n",
    "\n",
    "# In\n",
    "print(f'Tổng tiền của bạn là: {tongtien_nuoc} VND')\n",
    "\n",
    "if __name__ == \"__main__\":\n",
    "    tinh_tien_nuoc(sanluong_nuoc)"
   ]
  },
  {
   "cell_type": "markdown",
   "id": "c0835310",
   "metadata": {},
   "source": [
    "## Lab 4 - Bài 2"
   ]
  },
  {
   "cell_type": "code",
   "execution_count": 8,
   "id": "fa9cb39f",
   "metadata": {},
   "outputs": [
    {
     "name": "stdout",
     "output_type": "stream",
     "text": [
      "{'đường': 0.29000000000000004, 'đậu': 0.2}\n"
     ]
    }
   ],
   "source": [
    "# Code lab 4  bài 2 ở đây\n",
    "def tinh_nguyen_lieu(so_banh_dau_xanh, so_banh_thap_cam, so_banh_deo):\n",
    "    # Lưu lượng nguyên liệu cho từng loại bánh (sử dụng dictionary)\n",
    "    nguyen_lieu_banh = {\n",
    "        \"banh_dau_xanh\": {\"đường\": 0.04, \"đậu\": 0.07},\n",
    "        \"banh_thap_cam\": {\"đường\": 0.06, \"đậu\": 0},\n",
    "        \"banh_deo\": {\"đường\": 0.05, \"đậu\": 0.02}\n",
    "    }\n",
    "\n",
    "    # Tính tổng lượng đường\n",
    "    duong = (so_banh_dau_xanh * nguyen_lieu_banh[\"banh_dau_xanh\"][\"đường\"] +\n",
    "             so_banh_thap_cam * nguyen_lieu_banh[\"banh_thap_cam\"][\"đường\"] +\n",
    "             so_banh_deo * nguyen_lieu_banh[\"banh_deo\"][\"đường\"])\n",
    "\n",
    "    # Tính tổng lượng đậu\n",
    "    dau = (so_banh_dau_xanh * nguyen_lieu_banh[\"banh_dau_xanh\"][\"đậu\"] +\n",
    "           so_banh_thap_cam * nguyen_lieu_banh[\"banh_thap_cam\"][\"đậu\"] +\n",
    "           so_banh_deo * nguyen_lieu_banh[\"banh_deo\"][\"đậu\"])\n",
    "\n",
    "    # Trả về kết quả dưới dạng dictionary\n",
    "    return {\"đường\": duong, \"đậu\": dau}\n",
    "\n",
    "\n",
    "# Ví dụ sử dụng\n",
    "ket_qua = tinh_nguyen_lieu(2, 1, 3)\n",
    "print(ket_qua)   # Ví dụ: {\"đường\": ..., \"đậu\": ...}"
   ]
  },
  {
   "cell_type": "code",
   "execution_count": null,
   "id": "5b7411a8",
   "metadata": {},
   "outputs": [],
   "source": []
  },
  {
   "cell_type": "markdown",
   "id": "0f2483fe",
   "metadata": {},
   "source": [
    "## Lab 4 - Bài 3"
   ]
  },
  {
   "cell_type": "code",
   "execution_count": 3,
   "id": "7034990b",
   "metadata": {},
   "outputs": [
    {
     "name": "stdout",
     "output_type": "stream",
     "text": [
      "[]\n",
      "[2]\n",
      "[]\n",
      "[4]\n",
      "[]\n"
     ]
    }
   ],
   "source": [
    "# Code lab 4  bài 3 ở đây\n",
    "# Viết chương trình nhập vào một dãy số nguyên từ bàn phím\n",
    "# Sử dụng hàm lambda để lọc ra các số chẵn từ dãy số. Xuất kết quả ra màn hình\n",
    "\n",
    "number = []\n",
    "while True:\n",
    "    number = input('Please: ')\n",
    "    if number == 's':\n",
    "        break \n",
    "    # Chuyển đổi số nguyên\n",
    "    gan = map(int, number.split())\n",
    "    my_list = list(filter(lambda x: x % 2 == 0, gan))\n",
    "    print(my_list) "
   ]
  },
  {
   "cell_type": "markdown",
   "id": "d36ea3d3",
   "metadata": {},
   "source": [
    "## Lab 4 - Bài 4"
   ]
  },
  {
   "cell_type": "code",
   "execution_count": 9,
   "id": "4c707ec1",
   "metadata": {},
   "outputs": [
    {
     "name": "stdout",
     "output_type": "stream",
     "text": [
      "==============================MENU==============================\n",
      "1. Tính tiền nước sinh hoạt\n",
      "2. Tính nguyên liệu làm bánh\n",
      "3. Thoát\n",
      "================================================================\n",
      "Tính tiền nước sinh hoạt\n",
      "Tổng tiền nước phải trả là: 15000.0 VND\n",
      "==============================MENU==============================\n",
      "1. Tính tiền nước sinh hoạt\n",
      "2. Tính nguyên liệu làm bánh\n",
      "3. Thoát\n",
      "================================================================\n",
      "Thoát chương trình\n"
     ]
    }
   ],
   "source": [
    "# code lab 4 bài 4 ở đây\n",
    "from lab4 import tinh_tien_nuoc, tinh_nguyen_lieu\n",
    "menu = {\n",
    "    \"1\": \"Tính tiền nước sinh hoạt\",\n",
    "    \"2\": \"Tính nguyên liệu làm bánh\",\n",
    "    \"3\": \"Thoát\",\n",
    "}\n",
    "while True:\n",
    "    print(\"===\"*10 + \"MENU\" + \"===\"*10)\n",
    "    for key, value in menu.items():\n",
    "        print(f\"{key}. {value}\")\n",
    "    print(\"===\"*10 + \"====\" + \"===\"*10)\n",
    "    lua_chon = input(\"Mời bạn chọn chức năng: \")\n",
    "    if lua_chon == \"3\":\n",
    "        print(\"Thoát chương trình\")\n",
    "        break\n",
    "    elif lua_chon == \"1\":\n",
    "        print(\"Tính tiền nước sinh hoạt\")\n",
    "        so_nuoc = float(input(\"Nhập số nước đã sử dụng (m3): \"))\n",
    "        print(f\"Tổng tiền nước phải trả là: {tinh_tien_nuoc(so_nuoc)} VND\")\n",
    "    elif lua_chon == \"2\":\n",
    "        print(\"Tính nguyên liệu làm bánh\")\n",
    "        so_banh = int(input(\"Nhập số bánh cần làm: \"))\n",
    "        nguyen_lieu = tinh_nguyen_lieu(so_banh, so_banh, so_banh)\n",
    "        print(f\"Nguyên liệu cần chuẩn bị để làm {so_banh} cái bánh:\")\n",
    "        for item, quantity in nguyen_lieu.items():\n",
    "            print(f\"- {item}: {quantity}\")\n",
    "    else:\n",
    "        print(\"Lựa chọn không hợp lệ, vui lòng thử lại.\")"
   ]
  },
  {
   "cell_type": "markdown",
   "id": "e2b41d4a",
   "metadata": {},
   "source": [
    "## Lab 4 - Bài 5: bài tập làm thêm"
   ]
  },
  {
   "cell_type": "code",
   "execution_count": null,
   "id": "0e0172f7",
   "metadata": {},
   "outputs": [],
   "source": [
    "# code lab 4  bài làm thêm ở đây \n"
   ]
  }
 ],
 "metadata": {
  "kernelspec": {
   "display_name": "Python 3",
   "language": "python",
   "name": "python3"
  },
  "language_info": {
   "codemirror_mode": {
    "name": "ipython",
    "version": 3
   },
   "file_extension": ".py",
   "mimetype": "text/x-python",
   "name": "python",
   "nbconvert_exporter": "python",
   "pygments_lexer": "ipython3",
   "version": "3.13.7"
  }
 },
 "nbformat": 4,
 "nbformat_minor": 5
}
