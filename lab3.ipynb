{
 "cells": [
  {
   "cell_type": "markdown",
   "id": "fdeff819",
   "metadata": {},
   "source": [
    "# Sinh Viên thực hiện Lab 3 ở Đây"
   ]
  },
  {
   "cell_type": "markdown",
   "id": "acc5d7dc",
   "metadata": {},
   "source": [
    "## Lab 3 - Bài 1"
   ]
  },
  {
   "cell_type": "code",
   "execution_count": 1,
   "id": "001e0507",
   "metadata": {},
   "outputs": [
    {
     "name": "stdout",
     "output_type": "stream",
     "text": [
      "[3, 3, 4, 5, 9, 9, 10]\n",
      "Giá trị nhỏ nhất trong phần tử là: 3\n"
     ]
    }
   ],
   "source": [
    "# Code lab 3  bài 1 ở đây\n",
    "# Lưu giá trị\n",
    "Save = []\n",
    "# Người dùng nhập vào\n",
    "dayso = input('Please int: ')\n",
    "# Gán giá trị số nguyên \n",
    "Save = list(map(int, dayso.split()))\n",
    "# Sắp xếp thứ tự tăng dần\n",
    "Save.sort() # Khi sắp xếp theo thứ tự giảm dần phần tử nhỏ nhất là số lớn nhất\n",
    "# In\n",
    "print(Save)\n",
    "print(f'Giá trị nhỏ nhất trong phần tử là: {Save[0]}')"
   ]
  },
  {
   "cell_type": "markdown",
   "id": "c0835310",
   "metadata": {},
   "source": [
    "## Lab 3 - Bài 2"
   ]
  },
  {
   "cell_type": "code",
   "execution_count": 3,
   "id": "fa9cb39f",
   "metadata": {},
   "outputs": [
    {
     "name": "stdout",
     "output_type": "stream",
     "text": [
      "Tên của bạn là: Thinh\n",
      "Điểm của bạn là: 9.0\n",
      "Xếp loại của bạn là: Xuất sắc\n"
     ]
    }
   ],
   "source": [
    "# Code lab 3  bài 2 ở đây\n",
    "# Viết chương trình nhập dữ liệu của một sinh viên. Thông tin của sinh viên gồm: họ tên và điểm.\n",
    "\n",
    "Thongtin = {} # kiểu dictionnary\n",
    "Thongtin['hoten'] = input('Vui lòng nhập tên: ')\n",
    "Thongtin['diem'] = float(input('Vui lòng nhập điểm: '))\n",
    "\n",
    "\n",
    "if Thongtin['diem'] < 5:\n",
    "    Thongtin['xeploai'] = 'Loại Yếu'\n",
    "elif Thongtin['diem'] < 7:\n",
    "    Thongtin['xeploai'] = 'Loại Trung Bình'\n",
    "elif Thongtin['diem'] < 8:\n",
    "    Thongtin['xeploai'] = 'Loại Khá'\n",
    "elif Thongtin['diem'] < 9:\n",
    "    Thongtin['xeploai'] = 'Loại Giỏi'\n",
    "else:\n",
    "    Thongtin['xeploai'] = 'Xuất sắc'\n",
    "\n",
    "print(f'Tên của bạn là: {Thongtin[\"hoten\"]}')\n",
    "print(f'Điểm của bạn là: {Thongtin[\"diem\"]}')\n",
    "print(f'Xếp loại của bạn là: {Thongtin[\"xeploai\"]}')"
   ]
  },
  {
   "cell_type": "markdown",
   "id": "0f2483fe",
   "metadata": {},
   "source": [
    "## Lab 3 - Bài 3"
   ]
  },
  {
   "cell_type": "code",
   "execution_count": 8,
   "id": "7034990b",
   "metadata": {},
   "outputs": [
    {
     "name": "stdout",
     "output_type": "stream",
     "text": [
      "2 Không phải là số nguyên tố \n"
     ]
    }
   ],
   "source": [
    "# Code lab 3  bài 3 ở đây\n",
    "# Viết chương trình nhập một số nguyên từ bàn phím và cho biết số đó có phải là số nguyên tố hay không\n",
    "# (số nnguyên tố là số chỉ chia hết cho 1 và chính nó).\n",
    "import math\n",
    "\n",
    "n = int(input('Nhập số nguyên tố: '))\n",
    "\n",
    "if n < 0:\n",
    "    print('Vui lòng nhập số nguyên tố')\n",
    "elif n <= 2:\n",
    "    print(f'{n} Không phải là số nguyên tố ')\n",
    "else:\n",
    "    for i in range(2, int(math.sqrt(n) + 1)):\n",
    "        if n % i == 0:\n",
    "            print(f'{n} Không phải số nguyên tố')\n",
    "            break\n",
    "    else:\n",
    "        print(f'{n} Nó là số nguyên tố')"
   ]
  },
  {
   "cell_type": "markdown",
   "id": "d36ea3d3",
   "metadata": {},
   "source": [
    "## Lab 3 - Bài 4"
   ]
  },
  {
   "cell_type": "code",
   "execution_count": 19,
   "id": "4c707ec1",
   "metadata": {},
   "outputs": [
    {
     "name": "stdout",
     "output_type": "stream",
     "text": [
      "Bảng cửu chương 2\n",
      "2 * 1 = 2\n",
      "2 * 2 = 4\n",
      "2 * 3 = 6\n",
      "2 * 4 = 8\n",
      "2 * 5 = 10\n",
      "2 * 6 = 12\n",
      "2 * 7 = 14\n",
      "2 * 8 = 16\n",
      "2 * 9 = 18\n",
      "2 * 10 = 20\n"
     ]
    }
   ],
   "source": [
    "# code lab 3 bài 4 ở đây\n",
    "# Viết chương trình xuất ra màn hình bảng cửu chương\n",
    "\n",
    "# Bảng cửu chương\n",
    "n = int(input(\"Vui lòng nhập bảng cửu chương bạn muốn tính (1-9): \"))\n",
    "\n",
    "if n < 1 or n > 9:\n",
    "    print(\"Chỉ nhập được từ 1 đến 9 thôi!\")\n",
    "else:\n",
    "    print(f'Bảng cửu chương {n}')\n",
    "    for i in range(1, 11):\n",
    "        print(f'{n} * {i} = {n*i}')\n"
   ]
  },
  {
   "cell_type": "markdown",
   "id": "e2b41d4a",
   "metadata": {},
   "source": [
    "## Lab 3 - Bài 5: bài tập làm thêm"
   ]
  },
  {
   "cell_type": "code",
   "execution_count": 16,
   "id": "0e0172f7",
   "metadata": {},
   "outputs": [
    {
     "name": "stdout",
     "output_type": "stream",
     "text": [
      "\n",
      "===== MENU LAB 3 =====\n",
      "1. Bài 1: Nhập dãy số, tìm giá trị nhỏ nhất\n",
      "2. Bài 2: Nhập thông tin sinh viên, xếp loại học lực\n",
      "3. Bài 3: Kiểm tra số nguyên tố\n",
      "4. Bài 4: In bảng cửu chương\n",
      "5. Thoát\n",
      "Bảng cửu chương 2\n",
      "2 * 1 = 2\n",
      "2 * 2 = 4\n",
      "2 * 3 = 6\n",
      "2 * 4 = 8\n",
      "2 * 5 = 10\n",
      "2 * 6 = 12\n",
      "2 * 7 = 14\n",
      "2 * 8 = 16\n",
      "2 * 9 = 18\n",
      "2 * 10 = 20\n",
      "\n",
      "===== MENU LAB 3 =====\n",
      "1. Bài 1: Nhập dãy số, tìm giá trị nhỏ nhất\n",
      "2. Bài 2: Nhập thông tin sinh viên, xếp loại học lực\n",
      "3. Bài 3: Kiểm tra số nguyên tố\n",
      "4. Bài 4: In bảng cửu chương\n",
      "5. Thoát\n",
      "[3, 4, 5, 9, 10]\n",
      "Giá trị nhỏ nhất trong phần tử là: 3\n",
      "\n",
      "===== MENU LAB 3 =====\n",
      "1. Bài 1: Nhập dãy số, tìm giá trị nhỏ nhất\n",
      "2. Bài 2: Nhập thông tin sinh viên, xếp loại học lực\n",
      "3. Bài 3: Kiểm tra số nguyên tố\n",
      "4. Bài 4: In bảng cửu chương\n",
      "5. Thoát\n",
      "Tên của bạn là: Thinh\n",
      "Điểm của bạn là: 9.0\n",
      "Xếp loại của bạn là: Xuất sắc\n",
      "\n",
      "===== MENU LAB 3 =====\n",
      "1. Bài 1: Nhập dãy số, tìm giá trị nhỏ nhất\n",
      "2. Bài 2: Nhập thông tin sinh viên, xếp loại học lực\n",
      "3. Bài 3: Kiểm tra số nguyên tố\n",
      "4. Bài 4: In bảng cửu chương\n",
      "5. Thoát\n",
      "Tên của bạn là: Thinh\n",
      "Điểm của bạn là: 9.0\n",
      "Xếp loại của bạn là: Xuất sắc\n",
      "\n",
      "===== MENU LAB 3 =====\n",
      "1. Bài 1: Nhập dãy số, tìm giá trị nhỏ nhất\n",
      "2. Bài 2: Nhập thông tin sinh viên, xếp loại học lực\n",
      "3. Bài 3: Kiểm tra số nguyên tố\n",
      "4. Bài 4: In bảng cửu chương\n",
      "5. Thoát\n",
      "2 Không phải là số nguyên tố\n",
      "\n",
      "===== MENU LAB 3 =====\n",
      "1. Bài 1: Nhập dãy số, tìm giá trị nhỏ nhất\n",
      "2. Bài 2: Nhập thông tin sinh viên, xếp loại học lực\n",
      "3. Bài 3: Kiểm tra số nguyên tố\n",
      "4. Bài 4: In bảng cửu chương\n",
      "5. Thoát\n"
     ]
    },
    {
     "ename": "KeyboardInterrupt",
     "evalue": "Interrupted by user",
     "output_type": "error",
     "traceback": [
      "\u001b[31m---------------------------------------------------------------------------\u001b[39m",
      "\u001b[31mKeyboardInterrupt\u001b[39m                         Traceback (most recent call last)",
      "\u001b[36mCell\u001b[39m\u001b[36m \u001b[39m\u001b[32mIn[16]\u001b[39m\u001b[32m, line 12\u001b[39m\n\u001b[32m      9\u001b[39m \u001b[38;5;28mprint\u001b[39m(\u001b[33m\"\u001b[39m\u001b[33m4. Bài 4: In bảng cửu chương\u001b[39m\u001b[33m\"\u001b[39m)\n\u001b[32m     10\u001b[39m \u001b[38;5;28mprint\u001b[39m(\u001b[33m\"\u001b[39m\u001b[33m5. Thoát\u001b[39m\u001b[33m\"\u001b[39m)\n\u001b[32m---> \u001b[39m\u001b[32m12\u001b[39m choice = \u001b[38;5;28;43minput\u001b[39;49m\u001b[43m(\u001b[49m\u001b[33;43m\"\u001b[39;49m\u001b[33;43mMời bạn chọn (1-5): \u001b[39;49m\u001b[33;43m\"\u001b[39;49m\u001b[43m)\u001b[49m\n\u001b[32m     14\u001b[39m \u001b[38;5;66;03m# Bài 1\u001b[39;00m\n\u001b[32m     15\u001b[39m \u001b[38;5;28;01mif\u001b[39;00m choice == \u001b[33m\"\u001b[39m\u001b[33m1\u001b[39m\u001b[33m\"\u001b[39m:\n",
      "\u001b[36mFile \u001b[39m\u001b[32m~\\AppData\\Roaming\\Python\\Python313\\site-packages\\ipykernel\\kernelbase.py:1275\u001b[39m, in \u001b[36mKernel.raw_input\u001b[39m\u001b[34m(self, prompt)\u001b[39m\n\u001b[32m   1273\u001b[39m     msg = \u001b[33m\"\u001b[39m\u001b[33mraw_input was called, but this frontend does not support input requests.\u001b[39m\u001b[33m\"\u001b[39m\n\u001b[32m   1274\u001b[39m     \u001b[38;5;28;01mraise\u001b[39;00m StdinNotImplementedError(msg)\n\u001b[32m-> \u001b[39m\u001b[32m1275\u001b[39m \u001b[38;5;28;01mreturn\u001b[39;00m \u001b[38;5;28;43mself\u001b[39;49m\u001b[43m.\u001b[49m\u001b[43m_input_request\u001b[49m\u001b[43m(\u001b[49m\n\u001b[32m   1276\u001b[39m \u001b[43m    \u001b[49m\u001b[38;5;28;43mstr\u001b[39;49m\u001b[43m(\u001b[49m\u001b[43mprompt\u001b[49m\u001b[43m)\u001b[49m\u001b[43m,\u001b[49m\n\u001b[32m   1277\u001b[39m \u001b[43m    \u001b[49m\u001b[38;5;28;43mself\u001b[39;49m\u001b[43m.\u001b[49m\u001b[43m_parent_ident\u001b[49m\u001b[43m[\u001b[49m\u001b[33;43m\"\u001b[39;49m\u001b[33;43mshell\u001b[39;49m\u001b[33;43m\"\u001b[39;49m\u001b[43m]\u001b[49m\u001b[43m,\u001b[49m\n\u001b[32m   1278\u001b[39m \u001b[43m    \u001b[49m\u001b[38;5;28;43mself\u001b[39;49m\u001b[43m.\u001b[49m\u001b[43mget_parent\u001b[49m\u001b[43m(\u001b[49m\u001b[33;43m\"\u001b[39;49m\u001b[33;43mshell\u001b[39;49m\u001b[33;43m\"\u001b[39;49m\u001b[43m)\u001b[49m\u001b[43m,\u001b[49m\n\u001b[32m   1279\u001b[39m \u001b[43m    \u001b[49m\u001b[43mpassword\u001b[49m\u001b[43m=\u001b[49m\u001b[38;5;28;43;01mFalse\u001b[39;49;00m\u001b[43m,\u001b[49m\n\u001b[32m   1280\u001b[39m \u001b[43m\u001b[49m\u001b[43m)\u001b[49m\n",
      "\u001b[36mFile \u001b[39m\u001b[32m~\\AppData\\Roaming\\Python\\Python313\\site-packages\\ipykernel\\kernelbase.py:1320\u001b[39m, in \u001b[36mKernel._input_request\u001b[39m\u001b[34m(self, prompt, ident, parent, password)\u001b[39m\n\u001b[32m   1317\u001b[39m \u001b[38;5;28;01mexcept\u001b[39;00m \u001b[38;5;167;01mKeyboardInterrupt\u001b[39;00m:\n\u001b[32m   1318\u001b[39m     \u001b[38;5;66;03m# re-raise KeyboardInterrupt, to truncate traceback\u001b[39;00m\n\u001b[32m   1319\u001b[39m     msg = \u001b[33m\"\u001b[39m\u001b[33mInterrupted by user\u001b[39m\u001b[33m\"\u001b[39m\n\u001b[32m-> \u001b[39m\u001b[32m1320\u001b[39m     \u001b[38;5;28;01mraise\u001b[39;00m \u001b[38;5;167;01mKeyboardInterrupt\u001b[39;00m(msg) \u001b[38;5;28;01mfrom\u001b[39;00m\u001b[38;5;250m \u001b[39m\u001b[38;5;28;01mNone\u001b[39;00m\n\u001b[32m   1321\u001b[39m \u001b[38;5;28;01mexcept\u001b[39;00m \u001b[38;5;167;01mException\u001b[39;00m:\n\u001b[32m   1322\u001b[39m     \u001b[38;5;28mself\u001b[39m.log.warning(\u001b[33m\"\u001b[39m\u001b[33mInvalid Message:\u001b[39m\u001b[33m\"\u001b[39m, exc_info=\u001b[38;5;28;01mTrue\u001b[39;00m)\n",
      "\u001b[31mKeyboardInterrupt\u001b[39m: Interrupted by user"
     ]
    }
   ],
   "source": [
    "# code lab 3  bài làm thêm ở đây \n",
    "import math\n",
    "\n",
    "while True:\n",
    "    print(\"\\n===== MENU LAB 3 =====\")\n",
    "    print(\"1. Bài 1: Nhập dãy số, tìm giá trị nhỏ nhất\")\n",
    "    print(\"2. Bài 2: Nhập thông tin sinh viên, xếp loại học lực\")\n",
    "    print(\"3. Bài 3: Kiểm tra số nguyên tố\")\n",
    "    print(\"4. Bài 4: In bảng cửu chương\")\n",
    "    print(\"5. Thoát\")\n",
    "\n",
    "    choice = input(\"Mời bạn chọn (1-5): \")\n",
    "\n",
    "    # Bài 1\n",
    "    if choice == \"1\":\n",
    "        dayso = input(\"Please int (nhập dãy số cách nhau bằng dấu cách): \")\n",
    "        Save = list(map(int, dayso.split()))\n",
    "        Save.sort()\n",
    "        print(Save)\n",
    "        print(f\"Giá trị nhỏ nhất trong phần tử là: {Save[0]}\")\n",
    "\n",
    "    # Bài 2\n",
    "    elif choice == \"2\":\n",
    "        Thongtin = {}\n",
    "        Thongtin['hoten'] = input(\"Vui lòng nhập tên: \")\n",
    "        Thongtin['diem'] = float(input(\"Vui lòng nhập điểm: \"))\n",
    "\n",
    "        if Thongtin['diem'] < 5:\n",
    "            Thongtin['xeploai'] = 'Loại Yếu'\n",
    "        elif Thongtin['diem'] < 7:\n",
    "            Thongtin['xeploai'] = 'Loại Trung Bình'\n",
    "        elif Thongtin['diem'] < 8:\n",
    "            Thongtin['xeploai'] = 'Loại Khá'\n",
    "        elif Thongtin['diem'] < 9:\n",
    "            Thongtin['xeploai'] = 'Loại Giỏi'\n",
    "        else:\n",
    "            Thongtin['xeploai'] = 'Xuất sắc'\n",
    "\n",
    "        print(f\"Tên của bạn là: {Thongtin['hoten']}\")\n",
    "        print(f\"Điểm của bạn là: {Thongtin['diem']}\")\n",
    "        print(f\"Xếp loại của bạn là: {Thongtin['xeploai']}\")\n",
    "\n",
    "    # Bài 3\n",
    "    elif choice == \"3\":\n",
    "        n = int(input(\"Nhập số nguyên tố: \"))\n",
    "        if n < 0:\n",
    "            print(\"Vui lòng nhập số nguyên tố dương\")\n",
    "        elif n <= 2:\n",
    "            print(f\"{n} Không phải là số nguyên tố\")\n",
    "        else:\n",
    "            for i in range(2, int(math.sqrt(n)) + 1):\n",
    "                if n % i == 0:\n",
    "                    print(f\"{n} Không phải số nguyên tố\")\n",
    "                    break\n",
    "            else:\n",
    "                print(f\"{n} Là số nguyên tố\")\n",
    "\n",
    "    # Bài 4\n",
    "    elif choice == \"4\":\n",
    "        n = int(input(\"Vui lòng nhập bảng cửu chương bạn muốn tính (1-9): \"))\n",
    "        if n < 1 or n > 9:\n",
    "            print(\"Chỉ nhập được từ 1 đến 9 thôi!\")\n",
    "        else:\n",
    "            print(f\"Bảng cửu chương {n}\")\n",
    "            for i in range(1, 11):\n",
    "                print(f\"{n} * {i} = {n*i}\")\n",
    "\n",
    "    # Thoát\n",
    "    elif choice == \"5\":\n",
    "        print(\"Chương trình kết thúc. Tạm biệt!\")\n",
    "        break\n",
    "    else:\n",
    "        print(\"Lựa chọn không hợp lệ, vui lòng nhập lại.\")\n",
    "\n",
    "           "
   ]
  }
 ],
 "metadata": {
  "kernelspec": {
   "display_name": "Python 3",
   "language": "python",
   "name": "python3"
  },
  "language_info": {
   "codemirror_mode": {
    "name": "ipython",
    "version": 3
   },
   "file_extension": ".py",
   "mimetype": "text/x-python",
   "name": "python",
   "nbconvert_exporter": "python",
   "pygments_lexer": "ipython3",
   "version": "3.13.7"
  }
 },
 "nbformat": 4,
 "nbformat_minor": 5
}
